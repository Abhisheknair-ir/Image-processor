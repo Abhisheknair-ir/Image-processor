{
 "cells": [
  {
   "cell_type": "code",
   "execution_count": 1,
   "id": "f8a68253-5dc2-4650-9309-e730974a1eb6",
   "metadata": {},
   "outputs": [
    {
     "name": "stdout",
     "output_type": "stream",
     "text": [
      "Defaulting to user installation because normal site-packages is not writeable\n",
      "Requirement already satisfied: Pillow in c:\\programdata\\anaconda3\\lib\\site-packages (10.3.0)\n",
      "Note: you may need to restart the kernel to use updated packages.\n"
     ]
    }
   ],
   "source": [
    "pip install Pillow"
   ]
  },
  {
   "cell_type": "code",
   "execution_count": 7,
   "id": "fca069c0-32fb-4173-bc36-1014ec117d6c",
   "metadata": {},
   "outputs": [
    {
     "name": "stdout",
     "output_type": "stream",
     "text": [
      "Image filled with background and saved to D:/TAG/V01/Trial_DataSet/Model01/Output/image.png\n"
     ]
    }
   ],
   "source": [
    "from PIL import Image\n",
    "\n",
    "# Define file paths\n",
    "ORIGINAL_IMAGE_PATH = 'D:/TAG/V01/Trial_DataSet/Model01/Output/processed_000d31f6-44b5-4758-8d86-c4fcfb234392.jpg'  # Change this to your original image\n",
    "BACKGROUND_IMAGE_PATH = 'D:/TAG/V01/Trial_DataSet/Model01/Output/white-unsplash-9d0375d2.jpg'  # Change this to your background image\n",
    "OUTPUT_IMAGE_PATH = 'D:/TAG/V01/Trial_DataSet/Model01/Output/image.png'  # Change this to the desired output path\n",
    "\n",
    "def fill_image_with_background(original_image_path, background_image_path, output_image_path):\n",
    "    # Open the original image and the background image\n",
    "    original = Image.open(original_image_path).convert(\"RGBA\")\n",
    "    background = Image.open(background_image_path).convert(\"RGBA\")\n",
    "    \n",
    "    # Resize the background to match the original image size\n",
    "    background = background.resize(original.size)\n",
    "\n",
    "    # Create a new image with the same size as the original\n",
    "    new_image = Image.new(\"RGBA\", original.size)\n",
    "\n",
    "    # Paste the background into the new image\n",
    "    new_image.paste(background, (0, 0))\n",
    "\n",
    "    # Paste the original image on top of the background\n",
    "    new_image.paste(original, (0, 0), original)\n",
    "\n",
    "    # Save the final image as PNG to support transparency\n",
    "    new_image.save(output_image_path, format='PNG')\n",
    "\n",
    "def main():\n",
    "    fill_image_with_background(ORIGINAL_IMAGE_PATH, BACKGROUND_IMAGE_PATH, OUTPUT_IMAGE_PATH)\n",
    "    print(f'Image filled with background and saved to {OUTPUT_IMAGE_PATH}')\n",
    "\n",
    "if __name__ == '__main__':\n",
    "    main()"
   ]
  }
 ],
 "metadata": {
  "kernelspec": {
   "display_name": "Python 3 (ipykernel)",
   "language": "python",
   "name": "python3"
  },
  "language_info": {
   "codemirror_mode": {
    "name": "ipython",
    "version": 3
   },
   "file_extension": ".py",
   "mimetype": "text/x-python",
   "name": "python",
   "nbconvert_exporter": "python",
   "pygments_lexer": "ipython3",
   "version": "3.12.4"
  }
 },
 "nbformat": 4,
 "nbformat_minor": 5
}
